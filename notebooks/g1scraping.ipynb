{
 "cells": [
  {
   "cell_type": "markdown",
   "metadata": {},
   "source": [
    "# G1 scraping\n",
    "This notebook aims to build a scaper of the news in https://g1.globo.com/"
   ]
  },
  {
   "cell_type": "markdown",
   "metadata": {},
   "source": [
    "## Setup"
   ]
  },
  {
   "cell_type": "code",
   "execution_count": 1,
   "metadata": {},
   "outputs": [],
   "source": [
    "from selenium import webdriver\n",
    "from selenium.webdriver.firefox.service import Service\n",
    "from bs4 import BeautifulSoup\n",
    "from time import sleep\n",
    "from selenium.webdriver.common.by import By\n",
    "import pandas as pd\n",
    "from datetime import datetime, timedelta\n",
    "\n",
    "# Path to geckodriver executable\n",
    "geckodriver_path = '/snap/bin/firefox.geckodriver'\n",
    "\n",
    "\n",
    "s = Service(executable_path=geckodriver_path)\n",
    "# Create a Firefox webdriver instance\n",
    "# opens a window\n",
    "driver = webdriver.Firefox(service=s)"
   ]
  },
  {
   "cell_type": "markdown",
   "metadata": {},
   "source": [
    "## Start"
   ]
  },
  {
   "cell_type": "code",
   "execution_count": 2,
   "metadata": {},
   "outputs": [],
   "source": [
    "driver.get('https://g1.globo.com/')"
   ]
  },
  {
   "cell_type": "code",
   "execution_count": 3,
   "metadata": {},
   "outputs": [
    {
     "name": "stdout",
     "output_type": "stream",
     "text": [
      "Scroll 1, height=7981\n",
      "Scroll 2, height=9601\n",
      "Scroll 3, height=13262\n",
      "Scroll 4, height=12258\n",
      "Scroll 5, height=11756\n",
      "Scroll 6, height=15138\n",
      "Scroll 7, height=14752\n",
      "Scroll 8, height=17765\n",
      "Scroll 9, height=17325\n",
      "Scroll 10, height=20758\n"
     ]
    }
   ],
   "source": [
    "# scrolling the page\n",
    "\n",
    "scrolls = 10\n",
    "\n",
    "current_height = driver.execute_script(\"return document.body.scrollHeight\")\n",
    "\n",
    "for i in range(scrolls):\n",
    "    # scroll to the end of the page\n",
    "    driver.execute_script(f\"window.scrollTo(0,document.body.scrollHeight)\")\n",
    "    sleep(1)\n",
    "    new_height = driver.execute_script(\"return document.body.scrollHeight\")\n",
    "    \n",
    "    \n",
    "    # if not autoscoll\n",
    "    if new_height == current_height:\n",
    "        # click the 'Veja mais' button\n",
    "        driver.find_element(By.CSS_SELECTOR, value='.load-more > a:nth-child(1)').click()\n",
    "        \n",
    "        # repeat the scroll\n",
    "        driver.execute_script(f\"window.scrollTo(0,document.body.scrollHeight)\")\n",
    "        current_height = driver.execute_script(\"return document.body.scrollHeight\")\n",
    "    else:\n",
    "        current_height = new_height\n",
    "        \n",
    "    print(f'Scroll {i + 1}, height={current_height}')\n",
    "    \n",
    "    # time for the page to load\n",
    "    sleep(4)"
   ]
  },
  {
   "cell_type": "markdown",
   "metadata": {},
   "source": [
    "## Scraping the data"
   ]
  },
  {
   "cell_type": "code",
   "execution_count": 4,
   "metadata": {},
   "outputs": [],
   "source": [
    "html_source = driver.page_source"
   ]
  },
  {
   "cell_type": "code",
   "execution_count": 5,
   "metadata": {},
   "outputs": [],
   "source": [
    "soup = BeautifulSoup(html_source, 'lxml')"
   ]
  },
  {
   "cell_type": "code",
   "execution_count": 6,
   "metadata": {},
   "outputs": [
    {
     "data": {
      "text/plain": [
       "10"
      ]
     },
     "execution_count": 6,
     "metadata": {},
     "output_type": "execute_result"
    }
   ],
   "source": [
    "content_blocks = soup.find_all('div', class_ = '_evg')\n",
    "len(content_blocks)"
   ]
  },
  {
   "cell_type": "code",
   "execution_count": 7,
   "metadata": {},
   "outputs": [
    {
     "name": "stdout",
     "output_type": "stream",
     "text": [
      "0\n",
      "0\n",
      "49\n",
      "8\n",
      "9\n",
      "5\n",
      "8\n",
      "6\n",
      "8\n",
      "5\n"
     ]
    }
   ],
   "source": [
    "for block in content_blocks:\n",
    "    news_list = block.find_all('div', class_ = 'feed-post-body')\n",
    "    \n",
    "    print(len(news_list))"
   ]
  },
  {
   "cell_type": "code",
   "execution_count": 8,
   "metadata": {},
   "outputs": [
    {
     "data": {
      "text/html": [
       "<div>\n",
       "<style scoped>\n",
       "    .dataframe tbody tr th:only-of-type {\n",
       "        vertical-align: middle;\n",
       "    }\n",
       "\n",
       "    .dataframe tbody tr th {\n",
       "        vertical-align: top;\n",
       "    }\n",
       "\n",
       "    .dataframe thead th {\n",
       "        text-align: right;\n",
       "    }\n",
       "</style>\n",
       "<table border=\"1\" class=\"dataframe\">\n",
       "  <thead>\n",
       "    <tr style=\"text-align: right;\">\n",
       "      <th></th>\n",
       "      <th>Title</th>\n",
       "      <th>Time</th>\n",
       "      <th>Section</th>\n",
       "      <th>Header</th>\n",
       "      <th>Resume</th>\n",
       "    </tr>\n",
       "  </thead>\n",
       "  <tbody>\n",
       "    <tr>\n",
       "      <th>0</th>\n",
       "      <td>PF descobre dispositivos ilegais para roubar d...</td>\n",
       "      <td>Há 2 horas</td>\n",
       "      <td>Política</td>\n",
       "      <td>Sistema clandestino</td>\n",
       "      <td>Varredura encontrou instalações clandestinas e...</td>\n",
       "    </tr>\n",
       "    <tr>\n",
       "      <th>1</th>\n",
       "      <td>'Abin paralela' de Bolsonaro espionou ministro...</td>\n",
       "      <td>Há 3 horas</td>\n",
       "      <td>Política</td>\n",
       "      <td>Monitoramento ilegal</td>\n",
       "      <td>None</td>\n",
       "    </tr>\n",
       "    <tr>\n",
       "      <th>2</th>\n",
       "      <td>VALDO: áudio de Ramagem e Bolsonaro sobre Fláv...</td>\n",
       "      <td>Há 2 horas</td>\n",
       "      <td>Blog do Valdo Cruz</td>\n",
       "      <td>None</td>\n",
       "      <td>None</td>\n",
       "    </tr>\n",
       "    <tr>\n",
       "      <th>3</th>\n",
       "      <td>Carne, remédios, cerveja, carro: o que pode mu...</td>\n",
       "      <td>Há 8 horas</td>\n",
       "      <td>Economia</td>\n",
       "      <td>Pagamento de impostos</td>\n",
       "      <td>Deputados decidiram que armas não terão tribut...</td>\n",
       "    </tr>\n",
       "    <tr>\n",
       "      <th>4</th>\n",
       "      <td>Reforma prevê imposto zero para quase 400 remé...</td>\n",
       "      <td>Há 8 horas</td>\n",
       "      <td>Saúde</td>\n",
       "      <td>De viagra a remédio para asma</td>\n",
       "      <td>None</td>\n",
       "    </tr>\n",
       "    <tr>\n",
       "      <th>...</th>\n",
       "      <td>...</td>\n",
       "      <td>...</td>\n",
       "      <td>...</td>\n",
       "      <td>...</td>\n",
       "      <td>...</td>\n",
       "    </tr>\n",
       "    <tr>\n",
       "      <th>93</th>\n",
       "      <td>Notícias no seu celular: entre no canal do g1 ...</td>\n",
       "      <td>Há 2 meses</td>\n",
       "      <td>None</td>\n",
       "      <td>Sempre ligado</td>\n",
       "      <td>None</td>\n",
       "    </tr>\n",
       "    <tr>\n",
       "      <th>94</th>\n",
       "      <td>Câmara aprova e envia para sanção projeto de m...</td>\n",
       "      <td>Há 30 minutos</td>\n",
       "      <td>Política</td>\n",
       "      <td>None</td>\n",
       "      <td>Texto já havia sido aprovado na Casa, mas volt...</td>\n",
       "    </tr>\n",
       "    <tr>\n",
       "      <th>95</th>\n",
       "      <td>Arroz e ovo quase todo dia: alunos de escolas ...</td>\n",
       "      <td>Há 44 minutos</td>\n",
       "      <td>Rio de Janeiro</td>\n",
       "      <td>None</td>\n",
       "      <td>Em uma das escolas do município da Baixada, de...</td>\n",
       "    </tr>\n",
       "    <tr>\n",
       "      <th>96</th>\n",
       "      <td>Biden dá entrevista nos EUA em meio a pressão ...</td>\n",
       "      <td>Há 60 minutos</td>\n",
       "      <td>Eleições nos EUA 2024</td>\n",
       "      <td>None</td>\n",
       "      <td>None</td>\n",
       "    </tr>\n",
       "    <tr>\n",
       "      <th>97</th>\n",
       "      <td>Veja os bairros onde há maior incidência de ro...</td>\n",
       "      <td>Há 1 hora</td>\n",
       "      <td>Rio de Janeiro</td>\n",
       "      <td>None</td>\n",
       "      <td>Levantamento foi feito pelo Instituto de Segur...</td>\n",
       "    </tr>\n",
       "  </tbody>\n",
       "</table>\n",
       "<p>98 rows × 5 columns</p>\n",
       "</div>"
      ],
      "text/plain": [
       "                                                Title           Time  \\\n",
       "0   PF descobre dispositivos ilegais para roubar d...     Há 2 horas   \n",
       "1   'Abin paralela' de Bolsonaro espionou ministro...     Há 3 horas   \n",
       "2   VALDO: áudio de Ramagem e Bolsonaro sobre Fláv...     Há 2 horas   \n",
       "3   Carne, remédios, cerveja, carro: o que pode mu...     Há 8 horas   \n",
       "4   Reforma prevê imposto zero para quase 400 remé...     Há 8 horas   \n",
       "..                                                ...            ...   \n",
       "93  Notícias no seu celular: entre no canal do g1 ...     Há 2 meses   \n",
       "94  Câmara aprova e envia para sanção projeto de m...  Há 30 minutos   \n",
       "95  Arroz e ovo quase todo dia: alunos de escolas ...  Há 44 minutos   \n",
       "96  Biden dá entrevista nos EUA em meio a pressão ...  Há 60 minutos   \n",
       "97  Veja os bairros onde há maior incidência de ro...      Há 1 hora   \n",
       "\n",
       "                    Section                         Header  \\\n",
       "0                 Política             Sistema clandestino   \n",
       "1                 Política            Monitoramento ilegal   \n",
       "2       Blog do Valdo Cruz                            None   \n",
       "3                 Economia           Pagamento de impostos   \n",
       "4                    Saúde   De viagra a remédio para asma   \n",
       "..                      ...                            ...   \n",
       "93                     None                  Sempre ligado   \n",
       "94                Política                            None   \n",
       "95          Rio de Janeiro                            None   \n",
       "96   Eleições nos EUA 2024                            None   \n",
       "97          Rio de Janeiro                            None   \n",
       "\n",
       "                                               Resume  \n",
       "0   Varredura encontrou instalações clandestinas e...  \n",
       "1                                                None  \n",
       "2                                                None  \n",
       "3   Deputados decidiram que armas não terão tribut...  \n",
       "4                                                None  \n",
       "..                                                ...  \n",
       "93                                               None  \n",
       "94  Texto já havia sido aprovado na Casa, mas volt...  \n",
       "95  Em uma das escolas do município da Baixada, de...  \n",
       "96                                               None  \n",
       "97  Levantamento foi feito pelo Instituto de Segur...  \n",
       "\n",
       "[98 rows x 5 columns]"
      ]
     },
     "execution_count": 8,
     "metadata": {},
     "output_type": "execute_result"
    }
   ],
   "source": [
    "titles = []\n",
    "times = []\n",
    "themes = []\n",
    "headers = []\n",
    "resumes = []\n",
    "\n",
    "for block in content_blocks:\n",
    "    news_list = block.find_all('div', class_ = 'feed-post-body')\n",
    "    for news in news_list:\n",
    "        title = news.find('a', class_ = 'feed-post-link gui-color-primary gui-color-hover')\n",
    "        titles.append(title.text)\n",
    "        \n",
    "        header = news.find('span', 'feed-post-header-chapeu')\n",
    "        headers.append(None if header is None else header.text)\n",
    "\n",
    "        time = news.find('span', 'feed-post-datetime')\n",
    "        times.append(None if time is None else time.text)\n",
    "\n",
    "        theme = news.find('span', 'feed-post-metadata-section')\n",
    "        themes.append(None if theme is None else theme.text)\n",
    "\n",
    "        resume = news.find('div', class_='feed-post-body-resumo')\n",
    "        resumes.append(None if resume is None else resume.text)\n",
    "\n",
    "        \n",
    "\n",
    "data = pd.DataFrame({\n",
    "    'Title': titles,\n",
    "    'Time': times,\n",
    "    'Theme': themes,\n",
    "    'Header': headers,\n",
    "    'Resume': resumes\n",
    "})\n",
    "\n",
    "data\n",
    "        "
   ]
  },
  {
   "cell_type": "code",
   "execution_count": 10,
   "metadata": {},
   "outputs": [
    {
     "name": "stdout",
     "output_type": "stream",
     "text": [
      "0    2024-07-11 18:13:01.312797\n",
      "1    2024-07-11 17:13:01.312808\n",
      "2    2024-07-11 18:13:01.312810\n",
      "3    2024-07-11 12:13:01.312812\n",
      "4    2024-07-11 12:13:01.312814\n",
      "                ...            \n",
      "93   2024-05-12 20:13:01.312981\n",
      "94   2024-07-11 19:43:01.312983\n",
      "95   2024-07-11 19:29:01.312985\n",
      "96   2024-07-11 19:13:01.312987\n",
      "97   2024-07-11 19:13:01.312988\n",
      "Name: Time, Length: 98, dtype: datetime64[ns]\n"
     ]
    }
   ],
   "source": [
    "def convert_to_datetime(time_str):\n",
    "    \"\"\"convert \"Há X [time unit]\" to datetime\"\"\"\n",
    "    if 'hora' in time_str or 'horas' in time_str:\n",
    "        # Extract the number of hours\n",
    "        hours_ago = int(time_str.split(' ')[1])\n",
    "        # Subtract the hours from the current datetime\n",
    "        return datetime.now() - timedelta(hours=hours_ago)\n",
    "    elif 'minuto' in time_str or 'minutos' in time_str:\n",
    "        # Extract the number of minutes\n",
    "        minutes_ago = int(time_str.split(' ')[1])\n",
    "        # Subtract the minutes from the current datetime\n",
    "        return datetime.now() - timedelta(minutes=minutes_ago)\n",
    "    elif 'dia' in time_str or 'dias' in time_str:\n",
    "        # Extract the number of days\n",
    "        days_ago = int(time_str.split(' ')[1])\n",
    "        # Subtract the days from the current datetime\n",
    "        return datetime.now() - timedelta(days=days_ago)\n",
    "    elif 'mês' in time_str or 'meses' in time_str:\n",
    "        # Extract the number of months\n",
    "        months_ago = int(time_str.split(' ')[1])\n",
    "        # Subtract the months from the current datetime\n",
    "        # Note: This is an approximation as timedelta does not support months directly\n",
    "        return datetime.now() - timedelta(days=30*months_ago)\n",
    "    else:\n",
    "        return None  # If the format does not match, return None\n",
    "\n",
    "# Apply the function to the series\n",
    "converted_dates = data['Time'].apply(convert_to_datetime)\n",
    "\n",
    "# Print the converted dates\n",
    "print(converted_dates)\n"
   ]
  }
 ],
 "metadata": {
  "kernelspec": {
   "display_name": "Python 3",
   "language": "python",
   "name": "python3"
  },
  "language_info": {
   "codemirror_mode": {
    "name": "ipython",
    "version": 3
   },
   "file_extension": ".py",
   "mimetype": "text/x-python",
   "name": "python",
   "nbconvert_exporter": "python",
   "pygments_lexer": "ipython3",
   "version": "3.11.5"
  }
 },
 "nbformat": 4,
 "nbformat_minor": 2
}
