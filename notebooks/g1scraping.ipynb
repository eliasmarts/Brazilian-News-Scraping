{
 "cells": [
  {
   "cell_type": "markdown",
   "metadata": {},
   "source": [
    "# G1 scraping\n",
    "This notebook aims to build a scaper of the news in https://g1.globo.com/"
   ]
  },
  {
   "cell_type": "markdown",
   "metadata": {},
   "source": [
    "## Setup"
   ]
  },
  {
   "cell_type": "code",
   "execution_count": 1,
   "metadata": {},
   "outputs": [],
   "source": [
    "from selenium import webdriver\n",
    "from selenium.webdriver.firefox.service import Service\n",
    "from bs4 import BeautifulSoup\n",
    "from time import sleep\n",
    "from selenium.webdriver.common.by import By\n",
    "\n",
    "# Path to geckodriver executable\n",
    "geckodriver_path = '/snap/bin/firefox.geckodriver'\n",
    "\n",
    "\n",
    "s = Service(executable_path=geckodriver_path)\n",
    "# Create a Firefox webdriver instance\n",
    "# opens a window\n",
    "driver = webdriver.Firefox(service=s)"
   ]
  },
  {
   "cell_type": "markdown",
   "metadata": {},
   "source": [
    "## Start"
   ]
  },
  {
   "cell_type": "code",
   "execution_count": 2,
   "metadata": {},
   "outputs": [],
   "source": [
    "driver.get('https://g1.globo.com/')"
   ]
  },
  {
   "cell_type": "code",
   "execution_count": 3,
   "metadata": {},
   "outputs": [
    {
     "name": "stdout",
     "output_type": "stream",
     "text": [
      "Scroll 1, height=7941\n",
      "Scroll 2, height=14557\n",
      "Scroll 3, height=14294\n",
      "Scroll 4, height=14101\n",
      "Scroll 5, height=17401\n",
      "Scroll 6, height=17015\n",
      "Scroll 7, height=20202\n",
      "Scroll 8, height=19816\n",
      "Scroll 9, height=22902\n",
      "Scroll 10, height=22516\n"
     ]
    }
   ],
   "source": [
    "# scrolling the page\n",
    "\n",
    "scrolls = 10\n",
    "\n",
    "current_height = driver.execute_script(\"return document.body.scrollHeight\")\n",
    "\n",
    "for i in range(scrolls):\n",
    "    # scroll to the end of the page\n",
    "    driver.execute_script(f\"window.scrollTo(0,document.body.scrollHeight)\")\n",
    "\n",
    "    new_height = driver.execute_script(\"return document.body.scrollHeight\")\n",
    "    \n",
    "    # if not autoscoll\n",
    "    if new_height == current_height:\n",
    "        # click the 'Veja mais' button\n",
    "        driver.find_element(By.CSS_SELECTOR, value='.load-more > a:nth-child(1)').click()\n",
    "        \n",
    "        # repeat the scroll\n",
    "        driver.execute_script(f\"window.scrollTo(0,document.body.scrollHeight)\")\n",
    "        current_height = driver.execute_script(\"return document.body.scrollHeight\")\n",
    "    else:\n",
    "        current_height = new_height\n",
    "        \n",
    "    print(f'Scroll {i + 1}, height={current_height}')\n",
    "    \n",
    "    # time for the page to load\n",
    "    sleep(4)"
   ]
  }
 ],
 "metadata": {
  "kernelspec": {
   "display_name": "Python 3",
   "language": "python",
   "name": "python3"
  },
  "language_info": {
   "codemirror_mode": {
    "name": "ipython",
    "version": 3
   },
   "file_extension": ".py",
   "mimetype": "text/x-python",
   "name": "python",
   "nbconvert_exporter": "python",
   "pygments_lexer": "ipython3",
   "version": "3.11.5"
  }
 },
 "nbformat": 4,
 "nbformat_minor": 2
}
