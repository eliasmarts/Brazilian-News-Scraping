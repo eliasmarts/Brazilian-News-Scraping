{
 "cells": [
  {
   "cell_type": "markdown",
   "metadata": {},
   "source": [
    "# CNN scraping\n",
    "This notebook aims to build a scaper of the news in https://www.cnnbrasil.com.br/"
   ]
  },
  {
   "cell_type": "code",
   "execution_count": 1,
   "metadata": {},
   "outputs": [],
   "source": [
    "from selenium import webdriver\n",
    "from selenium.webdriver.firefox.service import Service\n",
    "from bs4 import BeautifulSoup\n",
    "from time import sleep\n",
    "from selenium.webdriver.common.by import By\n",
    "import pandas as pd\n",
    "from datetime import datetime, timedelta\n",
    "\n",
    "# Path to geckodriver executable\n",
    "geckodriver_path = '/snap/bin/firefox.geckodriver'\n",
    "\n",
    "\n",
    "s = Service(executable_path=geckodriver_path)\n",
    "# Create a Firefox webdriver instance\n",
    "# opens a window\n",
    "driver = webdriver.Firefox(service=s)"
   ]
  },
  {
   "cell_type": "code",
   "execution_count": 2,
   "metadata": {},
   "outputs": [],
   "source": [
    "driver.get('https://www.cnnbrasil.com.br/politica/')"
   ]
  },
  {
   "cell_type": "code",
   "execution_count": 3,
   "metadata": {},
   "outputs": [
    {
     "name": "stdout",
     "output_type": "stream",
     "text": [
      "Scroll 1, height=7486\n",
      "Scroll 2, height=11018\n",
      "Scroll 3, height=14526\n",
      "Scroll 4, height=18034\n",
      "Scroll 5, height=21518\n",
      "Scroll 6, height=25026\n",
      "Scroll 7, height=28462\n",
      "Scroll 8, height=32018\n",
      "Scroll 9, height=35502\n",
      "Scroll 10, height=38938\n"
     ]
    }
   ],
   "source": [
    "scrolls = 10\n",
    "\n",
    "current_height = driver.execute_script(\"return document.body.scrollHeight\")\n",
    "\n",
    "for i in range(scrolls):\n",
    "    # scroll to the end of the page\n",
    "    driver.execute_script(f\"window.scrollTo(0,document.body.scrollHeight)\")\n",
    "    sleep(1)\n",
    "    driver.find_element(By.CSS_SELECTOR, value='.block-list-get-more-btn').click()\n",
    "    \n",
    "    # repeat the scroll\n",
    "    driver.execute_script(f\"window.scrollTo(0,document.body.scrollHeight)\")\n",
    "    current_height = driver.execute_script(\"return document.body.scrollHeight\")\n",
    "        \n",
    "    print(f'Scroll {i + 1}, height={current_height}')\n",
    "    \n",
    "    # time for the page to load\n",
    "    sleep(4)"
   ]
  },
  {
   "cell_type": "code",
   "execution_count": null,
   "metadata": {},
   "outputs": [],
   "source": [
    "html_source = driver.page_source\n",
    "soup = BeautifulSoup(html_source, 'lxml')"
   ]
  }
 ],
 "metadata": {
  "kernelspec": {
   "display_name": "base",
   "language": "python",
   "name": "python3"
  },
  "language_info": {
   "codemirror_mode": {
    "name": "ipython",
    "version": 3
   },
   "file_extension": ".py",
   "mimetype": "text/x-python",
   "name": "python",
   "nbconvert_exporter": "python",
   "pygments_lexer": "ipython3",
   "version": "3.11.5"
  }
 },
 "nbformat": 4,
 "nbformat_minor": 2
}
